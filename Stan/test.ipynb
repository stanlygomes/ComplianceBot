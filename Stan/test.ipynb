{
 "cells": [
  {
   "cell_type": "code",
   "execution_count": 1,
   "metadata": {},
   "outputs": [],
   "source": [
    "import utils\n",
    "import os"
   ]
  },
  {
   "cell_type": "code",
   "execution_count": 2,
   "metadata": {},
   "outputs": [
    {
     "name": "stdout",
     "output_type": "stream",
     "text": [
      "Split 39 documents into 387 chunks.\n",
      "Anti-Trust and Competition Policy Manual\n",
      "\n",
      "Policy Coverage\n",
      "\n",
      "This Anti-Trust and Competition Policy (\"Policy\") applies to all employees of Wolfgang (\"the Company\") located in Canada and the United Kingdom (\"UK\"). It is imperative that all employees adhere to the principles outlined in this Policy to ensure compliance with all relevant laws and regulations pertaining to anti-trust and competition within these jurisdictions.\n",
      "\n",
      "Policy Overview\n",
      "{'source': 'data\\\\compliance\\\\anti_trust_and_competition_policy_uk.md', 'start_index': 0}\n",
      "Saved 387 chunks to C:/ProgramData/UserDataFolders/S-1-5-21-1271617331-789234398-1144656980-1030/Documents/chroma_compliance.\n"
     ]
    }
   ],
   "source": [
    "utils.generate_data_store()"
   ]
  },
  {
   "cell_type": "code",
   "execution_count": null,
   "metadata": {},
   "outputs": [],
   "source": [
    "print(os.getcwd())"
   ]
  },
  {
   "cell_type": "code",
   "execution_count": 3,
   "metadata": {},
   "outputs": [],
   "source": [
    "model_types = {'gpt3.5': 'gpt-3.5-turbo', 'gpt4': 'gpt-4',\n",
    "               'claude-sonnet': 'claude-3-sonnet-20240229', 'claude-opus': 'claude-3-opus-20240229',\n",
    "               'claude-haiku': 'claude-3-haiku-20240307'}\n",
    "question = \"Provide me a list of phone policies I have to adhere to while I am with the company.\""
   ]
  },
  {
   "cell_type": "code",
   "execution_count": 5,
   "metadata": {},
   "outputs": [
    {
     "name": "stdout",
     "output_type": "stream",
     "text": [
      "Human: \n",
      "Answer the question based only on the following context:\n",
      "\n",
      "Policy Statement\n",
      "\n",
      "1. Acceptable Use\n",
      "\n",
      "Employees are permitted to use personal devices for work-related tasks such as checking emails, participating in conference calls, accessing company documents, and using approved applications. However, personal devices should primarily be used for work purposes and should not be used for personal activities during working hours.\n",
      "\n",
      "2. Security Measures\n",
      "\n",
      "Employees using personal devices for work purposes are required to adhere to all company security policies and practices. This includes but is not limited to:\n",
      "\n",
      "Keeping devices password-protected.\n",
      "\n",
      "---\n",
      "\n",
      "6. Compliance with Company Policies\n",
      "\n",
      "Employees using personal devices for work purposes must comply with all company policies, including but not limited to the Acceptable Use Policy, Information Security Policy, and Data Protection Policy. Failure to comply with these policies may result in disciplinary action, up to and including termination of employment.\n",
      "\n",
      "7. Reporting Security Incidents\n",
      "\n",
      "---\n",
      "\n",
      "Personal Devices at Work Policy\n",
      "\n",
      "Policy Coverage\n",
      "\n",
      "This policy applies to all employees of [Company Name] who use personal devices for work-related purposes, including but not limited to smartphones, laptops, tablets, and other electronic devices. It applies to employees working in all geographical locations where [Company Name] operates.\n",
      "\n",
      "Policy Overview\n",
      "\n",
      "---\n",
      "\n",
      "Answer the question based on the above context: Provide me a list of phone policies I have to adhere to while I am with the company.\n",
      "\n",
      "1. Employees are permitted to use personal devices for work-related tasks such as checking emails, participating in conference calls, accessing company documents, and using approved applications.\n",
      "2. Personal devices should primarily be used for work purposes and should not be used for personal activities during working hours.\n",
      "3. Employees using personal devices for work purposes are required to keep their devices password-protected.\n",
      "4. Employees using personal devices for work purposes must comply with all company policies, including but not limited to the Acceptable Use Policy, Information Security Policy, and Data Protection Policy.\n",
      "5. Failure to comply with company policies regarding personal device usage may result in disciplinary action, up to and including termination of employment.\n",
      "Sources: ['data\\\\compliance\\\\personal-devices-at-work-policy.md', 'data\\\\compliance\\\\personal-devices-at-work-policy.md', 'data\\\\compliance\\\\personal-devices-at-work-policy.md']\n"
     ]
    },
    {
     "data": {
      "text/plain": [
       "AIMessage(content='1. Employees are permitted to use personal devices for work-related tasks such as checking emails, participating in conference calls, accessing company documents, and using approved applications.\\n2. Personal devices should primarily be used for work purposes and should not be used for personal activities during working hours.\\n3. Employees using personal devices for work purposes are required to keep their devices password-protected.\\n4. Employees using personal devices for work purposes must comply with all company policies, including but not limited to the Acceptable Use Policy, Information Security Policy, and Data Protection Policy.\\n5. Failure to comply with company policies regarding personal device usage may result in disciplinary action, up to and including termination of employment.', response_metadata={'token_usage': {'completion_tokens': 136, 'prompt_tokens': 283, 'total_tokens': 419}, 'model_name': 'gpt-3.5-turbo', 'system_fingerprint': 'fp_3b956da36b', 'finish_reason': 'stop', 'logprobs': None}, id='run-96c30b2c-eec9-420e-8d8e-34e347986ead-0')"
      ]
     },
     "execution_count": 5,
     "metadata": {},
     "output_type": "execute_result"
    }
   ],
   "source": [
    "utils.query_data(question, model_types['gpt3.5'])"
   ]
  },
  {
   "cell_type": "code",
   "execution_count": 6,
   "metadata": {},
   "outputs": [
    {
     "name": "stdout",
     "output_type": "stream",
     "text": [
      "Human: \n",
      "Answer the question based only on the following context:\n",
      "\n",
      "Policy Statement\n",
      "\n",
      "1. Acceptable Use\n",
      "\n",
      "Employees are permitted to use personal devices for work-related tasks such as checking emails, participating in conference calls, accessing company documents, and using approved applications. However, personal devices should primarily be used for work purposes and should not be used for personal activities during working hours.\n",
      "\n",
      "2. Security Measures\n",
      "\n",
      "Employees using personal devices for work purposes are required to adhere to all company security policies and practices. This includes but is not limited to:\n",
      "\n",
      "Keeping devices password-protected.\n",
      "\n",
      "---\n",
      "\n",
      "6. Compliance with Company Policies\n",
      "\n",
      "Employees using personal devices for work purposes must comply with all company policies, including but not limited to the Acceptable Use Policy, Information Security Policy, and Data Protection Policy. Failure to comply with these policies may result in disciplinary action, up to and including termination of employment.\n",
      "\n",
      "7. Reporting Security Incidents\n",
      "\n",
      "---\n",
      "\n",
      "Personal Devices at Work Policy\n",
      "\n",
      "Policy Coverage\n",
      "\n",
      "This policy applies to all employees of [Company Name] who use personal devices for work-related purposes, including but not limited to smartphones, laptops, tablets, and other electronic devices. It applies to employees working in all geographical locations where [Company Name] operates.\n",
      "\n",
      "Policy Overview\n",
      "\n",
      "---\n",
      "\n",
      "Answer the question based on the above context: Provide me a list of phone policies I have to adhere to while I am with the company.\n",
      "\n",
      "1. You are allowed to use personal devices for work-related tasks such as checking emails, participating in conference calls, accessing company documents, and using approved applications. \n",
      "2. Personal devices should primarily be used for work purposes and should not be used for personal activities during working hours.\n",
      "3. You are required to adhere to all company security policies and practices, which includes keeping devices password-protected.\n",
      "4. You must comply with all company policies, including but not limited to the Acceptable Use Policy, Information Security Policy, and Data Protection Policy. Non-compliance may result in disciplinary action, up to and including termination of employment.\n",
      "5. Any security incidents must be reported.\n",
      "Sources: ['data\\\\compliance\\\\personal-devices-at-work-policy.md', 'data\\\\compliance\\\\personal-devices-at-work-policy.md', 'data\\\\compliance\\\\personal-devices-at-work-policy.md']\n"
     ]
    },
    {
     "data": {
      "text/plain": [
       "AIMessage(content='1. You are allowed to use personal devices for work-related tasks such as checking emails, participating in conference calls, accessing company documents, and using approved applications. \\n2. Personal devices should primarily be used for work purposes and should not be used for personal activities during working hours.\\n3. You are required to adhere to all company security policies and practices, which includes keeping devices password-protected.\\n4. You must comply with all company policies, including but not limited to the Acceptable Use Policy, Information Security Policy, and Data Protection Policy. Non-compliance may result in disciplinary action, up to and including termination of employment.\\n5. Any security incidents must be reported.', response_metadata={'token_usage': {'completion_tokens': 135, 'prompt_tokens': 283, 'total_tokens': 418}, 'model_name': 'gpt-4', 'system_fingerprint': None, 'finish_reason': 'stop', 'logprobs': None}, id='run-fdf3cd91-85d3-4049-bb4b-d4e21f79a932-0')"
      ]
     },
     "execution_count": 6,
     "metadata": {},
     "output_type": "execute_result"
    }
   ],
   "source": [
    "utils.query_data(question, model_types['gpt4'])"
   ]
  },
  {
   "cell_type": "code",
   "execution_count": 8,
   "metadata": {},
   "outputs": [
    {
     "name": "stdout",
     "output_type": "stream",
     "text": [
      "Human: \n",
      "Answer the question based only on the following context:\n",
      "\n",
      "Policy Statement\n",
      "\n",
      "1. Acceptable Use\n",
      "\n",
      "Employees are permitted to use personal devices for work-related tasks such as checking emails, participating in conference calls, accessing company documents, and using approved applications. However, personal devices should primarily be used for work purposes and should not be used for personal activities during working hours.\n",
      "\n",
      "2. Security Measures\n",
      "\n",
      "Employees using personal devices for work purposes are required to adhere to all company security policies and practices. This includes but is not limited to:\n",
      "\n",
      "Keeping devices password-protected.\n",
      "\n",
      "---\n",
      "\n",
      "6. Compliance with Company Policies\n",
      "\n",
      "Employees using personal devices for work purposes must comply with all company policies, including but not limited to the Acceptable Use Policy, Information Security Policy, and Data Protection Policy. Failure to comply with these policies may result in disciplinary action, up to and including termination of employment.\n",
      "\n",
      "7. Reporting Security Incidents\n",
      "\n",
      "---\n",
      "\n",
      "Personal Devices at Work Policy\n",
      "\n",
      "Policy Coverage\n",
      "\n",
      "This policy applies to all employees of [Company Name] who use personal devices for work-related purposes, including but not limited to smartphones, laptops, tablets, and other electronic devices. It applies to employees working in all geographical locations where [Company Name] operates.\n",
      "\n",
      "Policy Overview\n",
      "\n",
      "---\n",
      "\n",
      "Answer the question based on the above context: Provide me a list of phone policies I have to adhere to while I am with the company.\n",
      "\n",
      "Based on the provided context from the \"Personal Devices at Work Policy\", here are the policies related to using personal phones that you must adhere to while working for the company:\n",
      "\n",
      "1. Keep your personal device password-protected (mentioned under \"Security Measures\").\n",
      "\n",
      "2. Comply with the company's Acceptable Use Policy when using your personal device for work purposes.\n",
      "\n",
      "3. Comply with the company's Information Security Policy when using your personal device for work purposes.\n",
      "\n",
      "4. Comply with the company's Data Protection Policy when using your personal device for work purposes.\n",
      "\n",
      "The policy explicitly states that failure to comply with these policies may result in disciplinary action, including potential termination of employment.\n",
      "Sources: ['data\\\\compliance\\\\personal-devices-at-work-policy.md', 'data\\\\compliance\\\\personal-devices-at-work-policy.md', 'data\\\\compliance\\\\personal-devices-at-work-policy.md']\n"
     ]
    },
    {
     "data": {
      "text/plain": [
       "AIMessage(content='Based on the provided context from the \"Personal Devices at Work Policy\", here are the policies related to using personal phones that you must adhere to while working for the company:\\n\\n1. Keep your personal device password-protected (mentioned under \"Security Measures\").\\n\\n2. Comply with the company\\'s Acceptable Use Policy when using your personal device for work purposes.\\n\\n3. Comply with the company\\'s Information Security Policy when using your personal device for work purposes.\\n\\n4. Comply with the company\\'s Data Protection Policy when using your personal device for work purposes.\\n\\nThe policy explicitly states that failure to comply with these policies may result in disciplinary action, including potential termination of employment.', response_metadata={'id': 'msg_018avbNaoFYG93foWijg6ERm', 'model': 'claude-3-sonnet-20240229', 'stop_reason': 'end_turn', 'stop_sequence': None, 'usage': {'input_tokens': 311, 'output_tokens': 147}}, id='run-fae1938e-30b8-4c9c-8f97-66c347b10322-0')"
      ]
     },
     "execution_count": 8,
     "metadata": {},
     "output_type": "execute_result"
    }
   ],
   "source": [
    "utils.query_data(question, model_types['claude-sonnet'])"
   ]
  },
  {
   "cell_type": "code",
   "execution_count": null,
   "metadata": {},
   "outputs": [],
   "source": []
  }
 ],
 "metadata": {
  "kernelspec": {
   "display_name": "Python 3 (ipykernel)",
   "language": "python",
   "name": "python3"
  }
 },
 "nbformat": 4,
 "nbformat_minor": 2
}
