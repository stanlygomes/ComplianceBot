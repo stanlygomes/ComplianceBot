{
 "cells": [
  {
   "cell_type": "code",
   "execution_count": 19,
   "id": "0db5f05f-993a-40eb-bfdc-a179c8900b44",
   "metadata": {},
   "outputs": [],
   "source": [
    "from openai import OpenAI\n",
    "from dotenv import dotenv_values\n",
    "\n",
    "config = dotenv_values(\".env\")\n",
    "client = OpenAI(api_key=config[\"open_api_key\"])"
   ]
  },
  {
   "cell_type": "code",
   "execution_count": 54,
   "id": "1542abe2",
   "metadata": {},
   "outputs": [],
   "source": [
    "message=[\n",
    "  {\"role\": \"system\", \"content\":\"You are compliance officer for one of the top asset manager companies in the world. Desired output in json .\"},\n",
    "  {\"role\": \"user\", \"content\":\"Write a policy related to anti-money laundary that employees should follow. Policy should be 500 words.\"}\n",
    "  ]"
   ]
  },
  {
   "cell_type": "code",
   "execution_count": 55,
   "id": "72366c6b-783c-46ae-aeb1-ecbfc5ee032d",
   "metadata": {},
   "outputs": [],
   "source": [
    "response = client.chat.completions.create(\n",
    "    model=\"gpt-3.5-turbo\",\n",
    "    messages=message,\n",
    "    response_format=  { \"type\": \"json_object\" }\n",
    ")"
   ]
  },
  {
   "cell_type": "code",
   "execution_count": 56,
   "id": "5a79af6d-4674-4262-89a0-caaf5b1f06a6",
   "metadata": {},
   "outputs": [
    {
     "name": "stdout",
     "output_type": "stream",
     "text": [
      "{\n",
      "    \"Policy\": {\n",
      "        \"Title\": \"Anti-Money Laundering Policy\",\n",
      "        \"Introduction\": \"Our asset management company is committed to upholding the highest standards of integrity and ethics in all our business dealings. As part of our commitment to combating financial crime, we have established this Anti-Money Laundering (AML) Policy to prevent and detect money laundering activities within our organization.\",\n",
      "        \"Purpose\": \"The purpose of this policy is to outline the responsibilities of all employees in preventing money laundering, and to provide clear guidance on the procedures to be followed to comply with anti-money laundering laws and regulations.\",\n",
      "        \"Policy_Statement\": \"Our employees are required to comply with all applicable anti-money laundering laws and regulations, including but not limited to the Bank Secrecy Act (BSA) and the USA PATRIOT Act. They must exercise due diligence and report any suspicious activities that may indicate potential money laundering.\",\n",
      "        \"Key_Elements\": [\n",
      "            {\n",
      "                \"Element\": \"Customer Due Diligence\",\n",
      "                \"Description\": \"Employees must conduct thorough due diligence on all clients and counterparties to verify their identities and backgrounds. Enhanced due diligence should be applied to high-risk clients and transactions.\"\n",
      "            },\n",
      "            {\n",
      "                \"Element\": \"Transaction Monitoring\",\n",
      "                \"Description\": \"Employees must monitor transactions for any unusual patterns or activities that may raise suspicion of money laundering. Any such activities must be promptly reported to the designated AML officer.\"\n",
      "            },\n",
      "            {\n",
      "                \"Element\": \"Training and Awareness\",\n",
      "                \"Description\": \"All employees must receive training on anti-money laundering policies and procedures on a regular basis. They should be aware of the risks associated with money laundering and understand their role in preventing it.\"\n",
      "            },\n",
      "            {\n",
      "                \"Element\": \"Reporting\",\n",
      "                \"Description\": \"Employees are required to report any suspicious activities to the designated AML officer, who will investigate and take appropriate action. Failure to report suspicious activities may result in disciplinary action.\"\n",
      "            }\n",
      "        ],\n",
      "        \"Compliance\": \"All employees are expected to fully comply with this Anti-Money Laundering Policy. Non-compliance may result in severe consequences, including termination of employment and legal action.\",\n",
      "        \"Review\": \"This policy will be periodically reviewed and updated to ensure its effectiveness in preventing money laundering within our organization.\",\n",
      "        \"Conclusion\": \"By adhering to this Anti-Money Laundering Policy, our employees play a crucial role in safeguarding our company's reputation and integrity, and in contributing to the global effort to combat financial crime.\"\n",
      "    }\n",
      "}\n"
     ]
    }
   ],
   "source": [
    "print(response.choices[0].message.content)"
   ]
  }
 ],
 "metadata": {
  "kernelspec": {
   "display_name": "Python 3 (ipykernel)",
   "language": "python",
   "name": "python3"
  },
  "language_info": {
   "codemirror_mode": {
    "name": "ipython",
    "version": 3
   },
   "file_extension": ".py",
   "mimetype": "text/x-python",
   "name": "python",
   "nbconvert_exporter": "python",
   "pygments_lexer": "ipython3",
   "version": "3.11.8"
  }
 },
 "nbformat": 4,
 "nbformat_minor": 5
}
