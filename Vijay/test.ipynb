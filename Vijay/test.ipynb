{
 "cells": [
  {
   "cell_type": "code",
   "execution_count": 1,
   "id": "0db5f05f-993a-40eb-bfdc-a179c8900b44",
   "metadata": {},
   "outputs": [],
   "source": [
    "from openai import OpenAI\n",
    "from dotenv import dotenv_values\n",
    "\n",
    "config = dotenv_values(\"../../.env\")\n",
    "client = OpenAI(api_key=config[\"open_api_key\"])"
   ]
  },
  {
   "cell_type": "code",
   "execution_count": 4,
   "id": "1542abe2",
   "metadata": {},
   "outputs": [],
   "source": [
    "message=[\n",
    "  {\"role\": \"system\", \"content\":\"You are compliance officer for one of the top asset manager companies in the world. Desired output is markdown.\"},\n",
    "  {\"role\": \"user\", \"content\":\"Write a policy related to electronic communications that employees should follow. Policy should be 1000 words and have following sections, policy coverage (based on geographical location of employees), policy overview, and policy statement. policy statement should include as many sections as necessary.\" + \\\n",
    "        # \"Employees are located in the United States, the United Kingdom, Australia, and Canada. Each policy shall apply to no more than three countries.\"\n",
    "        \"Employees are located in Canada. Each policy shall apply to Canada.\" + \\\n",
    "        # \"Employees are located in the United Kingdom. Each policy shall apply to the United Kindgom.\" + \\\n",
    "        \"The name of the company is Wolfgang.\"\n",
    "        }\n",
    "  ]"
   ]
  },
  {
   "cell_type": "code",
   "execution_count": 5,
   "id": "72366c6b-783c-46ae-aeb1-ecbfc5ee032d",
   "metadata": {},
   "outputs": [
    {
     "name": "stdout",
     "output_type": "stream",
     "text": [
      "# Wolfgang Electronic Communications Policy\n",
      "\n",
      "## **Policy Coverage**\n",
      "\n",
      "This Electronic Communications Policy (\"Policy\") applies to all employees of Wolfgang regardless of their location within Canada. This Policy governs the appropriate use of electronic communication channels and platforms by Wolfgang employees to ensure compliance with legal and regulatory requirements, safeguard confidential information, and uphold the reputation of the company.\n",
      "\n",
      "## **Policy Overview**\n",
      "\n",
      "Electronic communications play a vital role in the day-to-day operations of Wolfgang. Employees must recognize the importance of using electronic communication responsibly and in alignment with company values and policies. This Policy provides guidelines for the proper utilization of electronic communication tools such as email, instant messaging, social media, and any other digital platforms that are used for business purposes.\n",
      "\n",
      "## **Policy Statement**\n",
      "\n",
      "### **1. Acceptable Use of Company Email**\n",
      "\n",
      "1.1. Employees are required to use their Wolfgang email account for all work-related communication.\n",
      "\n",
      "1.2. The use of company email for personal matters should be limited to necessary and occasional instances during non-working hours.\n",
      "\n",
      "1.3. Employees must ensure that all emails sent from their Wolfgang email account are professional in tone and content, free from offensive language, discriminatory remarks, or confidential information.\n",
      "\n",
      "### **2. Protection of Confidential Information**\n",
      "\n",
      "2.1. Employees must exercise caution when sharing confidential or sensitive information via electronic communications, ensuring that such information is only shared with authorized individuals within the organization.\n",
      "\n",
      "2.2. It is prohibited to transmit customer data, financial information, trade secrets, or any other proprietary information through insecure or unauthorized channels.\n",
      "\n",
      "### **3. Social Media Usage**\n",
      "\n",
      "3.1. When representing Wolfgang on social media platforms, employees must adhere to the company's social media guidelines and policies.\n",
      "\n",
      "3.2. Any content shared on social media that mentions or relates to Wolfgang must be accurate, respectful, and in compliance with legal requirements.\n",
      "\n",
      "### **4. Monitoring and Compliance**\n",
      "\n",
      "4.1. Wolfgang reserves the right to monitor electronic communications conducted on company-provided devices or networks to ensure compliance with this Policy and applicable laws.\n",
      "\n",
      "4.2. Employees are expected to cooperate with any internal investigations related to electronic communications and provide necessary information as requested by the compliance team.\n",
      "\n",
      "### **5. Personal Device Usage**\n",
      "\n",
      "5.1. When using personal devices for work-related communication, employees must ensure that such devices are secure and password-protected to prevent unauthorized access to company information.\n",
      "\n",
      "5.2. Personal devices used for work purposes should adhere to the same standards of conduct and security as company-provided devices.\n",
      "\n",
      "### **6. Training and Awareness**\n",
      "\n",
      "6.1. Wolfgang will provide training and resources to employees regarding the proper use of electronic communications, including guidelines on data security, privacy, and compliance requirements.\n",
      "\n",
      "6.2. Employees are encouraged to stay informed about updates to this Policy and consult the compliance team if they have any questions or concerns regarding electronic communications.\n",
      "\n",
      "Wolfgang is committed to maintaining a secure and professional environment for electronic communications. By adhering to this Policy, employees contribute to the overall compliance and reputation of the company while safeguarding sensitive information and promoting effective communication practices.\n",
      "\n",
      "## **Acknowledgment**\n",
      "\n",
      "I acknowledge that I have received, read, and understood the Wolfgang Electronic Communications Policy. I agree to comply with the guidelines outlined in this Policy and understand that any violation may result in disciplinary action, up to and including termination of employment.\n",
      "\n",
      "*Employee Name: _________________________*\n",
      "\n",
      "*Date: _________________________*\n",
      "\n",
      "*Signature: _________________________*\n",
      "\n",
      "[End of Policy]\n"
     ]
    }
   ],
   "source": [
    "response = client.chat.completions.create(\n",
    "    model=\"gpt-3.5-turbo\",\n",
    "    messages=message\n",
    "    #response_format=  { \"type\": \"json_object\" }\n",
    ")\n",
    "\n",
    "print(response.choices[0].message.content)"
   ]
  },
  {
   "cell_type": "code",
   "execution_count": null,
   "id": "5a79af6d-4674-4262-89a0-caaf5b1f06a6",
   "metadata": {},
   "outputs": [],
   "source": []
  }
 ],
 "metadata": {
  "kernelspec": {
   "display_name": "Python 3 (ipykernel)",
   "language": "python",
   "name": "python3"
  },
  "language_info": {
   "codemirror_mode": {
    "name": "ipython",
    "version": 3
   },
   "file_extension": ".py",
   "mimetype": "text/x-python",
   "name": "python",
   "nbconvert_exporter": "python",
   "pygments_lexer": "ipython3",
   "version": "3.11.8"
  }
 },
 "nbformat": 4,
 "nbformat_minor": 5
}
