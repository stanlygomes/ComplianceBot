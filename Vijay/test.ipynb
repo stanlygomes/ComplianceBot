{
 "cells": [
  {
   "cell_type": "code",
   "execution_count": 8,
   "id": "0db5f05f-993a-40eb-bfdc-a179c8900b44",
   "metadata": {},
   "outputs": [],
   "source": [
    "from openai import OpenAI\n",
    "from dotenv import dotenv_values\n",
    "\n",
    "config = dotenv_values(\"../../.env\")\n",
    "client = OpenAI(api_key=config[\"open_api_key\"])"
   ]
  },
  {
   "cell_type": "code",
   "execution_count": 16,
   "id": "1542abe2",
   "metadata": {},
   "outputs": [],
   "source": [
    "message=[\n",
    "  {\"role\": \"system\", \"content\":\"You are compliance officer for one of the top asset manager companies in the world. Desired output is markdown.\"},\n",
    "  {\"role\": \"user\", \"content\":\"Write a policy related to displinary actions that employees should follow. Policy should be 1000 words and have following sections, policy coverage (based on geographical location of employees), policy overview, and policy statement. policy statement should include as many sections as necessary.\" + \\\n",
    "        \"Employees are located in the United States, the United Kingdom, Australia, and Canada. Each policy shall apply to no more than three countries.\"\n",
    "        # \"Employees are located in Canada. Each policy shall apply to Canada.\" + \\\n",
    "        \"The name of the company is Wolfgang.\"\n",
    "        }\n",
    "  ]"
   ]
  },
  {
   "cell_type": "code",
   "execution_count": 17,
   "id": "72366c6b-783c-46ae-aeb1-ecbfc5ee032d",
   "metadata": {},
   "outputs": [
    {
     "name": "stdout",
     "output_type": "stream",
     "text": [
      "# Wolfgang Disciplinary Actions Policy\n",
      "\n",
      "## Policy Coverage\n",
      "\n",
      "This disciplinary actions policy applies to all employees of Wolfgang who are based in the United States, the United Kingdom, and Australia. It sets forth the guidelines and procedures for addressing disciplinary issues in a fair and consistent manner in accordance with the laws and regulations of each respective country.\n",
      "\n",
      "## Policy Overview\n",
      "\n",
      "At Wolfgang, we are committed to maintaining a positive work environment that promotes respect, fairness, and accountability. However, we understand that there may be instances where disciplinary action is necessary to address misconduct or performance issues. This policy is designed to provide a framework for managers and employees to follow when addressing disciplinary matters.\n",
      "\n",
      "## Policy Statement\n",
      "\n",
      "### General Principles\n",
      "\n",
      "1. **Fair Process:** Wolfgang is committed to providing all employees with due process when it comes to disciplinary actions. This includes giving employees the opportunity to be heard, presenting evidence, and allowing them to respond to any allegations or concerns.\n",
      "\n",
      "2. **Consistency:** All disciplinary actions will be applied consistently across the organization regardless of the employee's role, level, or location. Any deviations from standard procedures will be based on objective reasons and will be documented.\n",
      "\n",
      "3. **Progressive Discipline:** The goal of disciplinary actions at Wolfgang is to correct behavior and performance issues rather than to punish employees. As such, a progressive approach to discipline will be followed, starting with informal coaching and escalating to more severe measures if necessary.\n",
      "\n",
      "### Disciplinary Procedures\n",
      "\n",
      "#### Informal Counseling\n",
      "\n",
      "1. **Purpose:** Informal counseling is intended to address minor performance issues or conduct violations in a non-punitive manner. It is an opportunity for the employee and their manager to discuss concerns and develop a plan for improvement.\n",
      "\n",
      "2. **Procedure:** The manager will meet with the employee to discuss the issue, provide feedback, and outline expectations for improvement. A follow-up meeting may be scheduled to track progress and offer further support if needed.\n",
      "\n",
      "#### Written Warning\n",
      "\n",
      "1. **Purpose:** A written warning is issued when informal counseling has not resulted in the desired improvement or for more serious offenses. It serves as a formal notice that further disciplinary action may be taken if the behavior or performance concern is not addressed.\n",
      "\n",
      "2. **Procedure:** The manager will document the issue, the corrective actions required, and the consequences of failing to meet expectations. The employee will be asked to sign the written warning to acknowledge receipt and understanding.\n",
      "\n",
      "#### Suspension\n",
      "\n",
      "1. **Purpose:** Suspension may be used for more serious infractions or for cases where immediate separation from the workplace is necessary. It is a temporary measure pending further investigation or disciplinary action.\n",
      "\n",
      "2. **Procedure:** The decision to suspend an employee will be made by senior management in consultation with HR. The reasons for suspension will be communicated to the employee in writing, and they will be informed of the length and conditions of the suspension.\n",
      "\n",
      "#### Termination\n",
      "\n",
      "1. **Purpose:** Termination of employment is considered a last resort and will only be implemented after all other attempts to address the issue have been exhausted. It may be necessary for serious misconduct, repeated policy violations, or sustained poor performance.\n",
      "\n",
      "2. **Procedure:** Termination decisions will be made by senior management in consultation with HR. The employee will be provided with written notice of termination, including the reasons for the decision and any applicable exit procedures or benefits.\n",
      "\n",
      "### Appeal Process\n",
      "\n",
      "1. Employees have the right to appeal any disciplinary action taken against them. The appeal should be made in writing to HR within a specified timeframe, outlining the grounds for the appeal and any supporting evidence.\n",
      "\n",
      "2. An appeal panel comprising senior management and HR representatives will review the appeal and make a final decision. The employee will be informed of the outcome of the appeal in writing.\n",
      "\n",
      "### Compliance\n",
      "\n",
      "1. All managers are responsible for familiarizing themselves with this disciplinary actions policy and ensuring that it is implemented fairly and consistently within their teams.\n",
      "\n",
      "2. HR will provide guidance and support to managers and employees involved in disciplinary actions to ensure compliance with this policy and relevant employment laws.\n",
      "\n",
      "Wolfgang is committed to upholding the principles outlined in this disciplinary actions policy and to fostering a culture of accountability and respect in the workplace. Employees are encouraged to raise any concerns or seek clarification on this policy through the appropriate channels.\n"
     ]
    }
   ],
   "source": [
    "response = client.chat.completions.create(\n",
    "    model=\"gpt-3.5-turbo\",\n",
    "    messages=message\n",
    "    #response_format=  { \"type\": \"json_object\" }\n",
    ")\n",
    "\n",
    "print(response.choices[0].message.content)"
   ]
  },
  {
   "cell_type": "code",
   "execution_count": null,
   "id": "5a79af6d-4674-4262-89a0-caaf5b1f06a6",
   "metadata": {},
   "outputs": [],
   "source": []
  }
 ],
 "metadata": {
  "kernelspec": {
   "display_name": "Python 3 (ipykernel)",
   "language": "python",
   "name": "python3"
  },
  "language_info": {
   "codemirror_mode": {
    "name": "ipython",
    "version": 3
   },
   "file_extension": ".py",
   "mimetype": "text/x-python",
   "name": "python",
   "nbconvert_exporter": "python",
   "pygments_lexer": "ipython3",
   "version": "3.11.8"
  }
 },
 "nbformat": 4,
 "nbformat_minor": 5
}
