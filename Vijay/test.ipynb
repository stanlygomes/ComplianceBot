{
 "cells": [
  {
   "cell_type": "code",
   "execution_count": 1,
   "id": "0db5f05f-993a-40eb-bfdc-a179c8900b44",
   "metadata": {},
   "outputs": [],
   "source": [
    "from openai import OpenAI\n",
    "from dotenv import dotenv_values\n",
    "\n",
    "config = dotenv_values(\"../../.env\")\n",
    "client = OpenAI(api_key=config[\"open_api_key\"])"
   ]
  },
  {
   "cell_type": "code",
   "execution_count": 8,
   "id": "1542abe2",
   "metadata": {},
   "outputs": [],
   "source": [
    "message=[\n",
    "  {\"role\": \"system\", \"content\":\"You are compliance officer for one of the top asset manager companies in the world. Desired output is markdown.\"},\n",
    "  {\"role\": \"user\", \"content\":\"Write a policy related to the code of ethical conduct that employees should follow. Policy should be 1000 words and have following sections, policy coverage (based on geographical location of employees), policy overview, and policy statement. policy statement should include as many sections as necessary.\" + \\\n",
    "        # \"Employees are located in the United States, the United Kingdom, Australia, and Canada. Each policy shall apply to no more than three countries.\"\n",
    "        # \"Employees are located in Canada. Each policy shall apply to Canada.\" + \\\n",
    "        # \"Employees are located in the United Kingdom. Each policy shall apply to the United Kindgom.\" + \\\n",
    "        \"This policy applies to employees regardless of their geographic location\" + \\\n",
    "        \"The name of the company is Wolfgang.\"\n",
    "        }\n",
    "  ]"
   ]
  },
  {
   "cell_type": "code",
   "execution_count": 9,
   "id": "72366c6b-783c-46ae-aeb1-ecbfc5ee032d",
   "metadata": {},
   "outputs": [
    {
     "name": "stdout",
     "output_type": "stream",
     "text": [
      "# Policy: Expectations on Personnel Holding a Regulatory License in Canada\n",
      "\n",
      "## Policy Coverage \n",
      "This policy applies to all employees of Wolfgang located in Canada who hold a license issued by a regulatory agency.\n",
      "\n",
      "## Policy Overview\n",
      "Wolfgang recognizes the importance of regulatory licenses in the financial services industry. Employees who are entrusted with the responsibility of managing assets on behalf of clients must uphold the highest standards of professionalism and compliance. This policy outlines the expectations and responsibilities of personnel at Wolfgang who hold a license from a regulatory agency in Canada.\n",
      "\n",
      "## Policy Statement\n",
      "\n",
      "### Licensing Requirements and Maintenance\n",
      "1. All employees at Wolfgang who are required to hold a license from a regulatory agency must comply with the licensing requirements set forth by the appropriate regulatory authorities in Canada.\n",
      "   \n",
      "2. It is the responsibility of the employee to ensure that their license is current and in good standing at all times. Any changes to licensing status must be promptly reported to the compliance department.\n",
      "\n",
      "### Compliance with Regulations\n",
      "1. Employees holding a regulatory license must strictly adhere to all relevant laws, regulations, and guidelines issued by the regulatory authorities in Canada. Failure to comply may result in disciplinary action, up to and including termination.\n",
      "\n",
      "2. Any updates or changes to regulatory requirements must be communicated to all relevant personnel in a timely manner to ensure ongoing compliance.\n",
      "\n",
      "### Professional Conduct\n",
      "1. Employees holding a regulatory license are expected to conduct themselves in a professional manner at all times. This includes maintaining the highest standards of integrity, honesty, and ethical behavior in their interactions with clients, colleagues, and regulatory authorities.\n",
      "\n",
      "2. Any behavior that could reflect negatively on Wolfgang or undermine trust in the financial services industry is strictly prohibited.\n",
      "\n",
      "### Continuing Education and Training\n",
      "1. Employees who hold a regulatory license must engage in ongoing education and training to stay current with industry best practices, regulatory changes, and other relevant developments.\n",
      "\n",
      "2. It is the responsibility of the employee to ensure that they meet all continuing education requirements mandated by the regulatory authorities in Canada.\n",
      "\n",
      "### Reporting Violations\n",
      "1. Employees who hold a regulatory license have a duty to promptly report any suspected violations of laws, regulations, or company policies to the compliance department.\n",
      "\n",
      "2. Reports of violations will be thoroughly investigated, and appropriate action will be taken to address any breaches of compliance.\n",
      "\n",
      "### Non-Compliance\n",
      "1. Non-compliance with this policy or any regulatory requirements may result in disciplinary action, including warnings, suspension, termination, or other appropriate measures as deemed necessary by the company.\n",
      "\n",
      "2. Wolfgang reserves the right to take legal action against employees who engage in willful violations of laws or regulations that could harm the company or its clients.\n",
      "\n",
      "## Conclusion\n",
      "Wolfgang is committed to upholding the highest standards of compliance and professionalism in the financial services industry. Employees who hold a regulatory license play a critical role in maintaining the company's reputation and the trust of its clients. By adhering to the expectations outlined in this policy, employees can fulfill their obligations and contribute to a culture of integrity and excellence at Wolfgang.\n"
     ]
    }
   ],
   "source": [
    "response = client.chat.completions.create(\n",
    "    model=\"gpt-3.5-turbo\",\n",
    "    messages=message\n",
    "    #response_format=  { \"type\": \"json_object\" }\n",
    ")\n",
    "\n",
    "print(response.choices[0].message.content)"
   ]
  },
  {
   "cell_type": "code",
   "execution_count": null,
   "id": "5a79af6d-4674-4262-89a0-caaf5b1f06a6",
   "metadata": {},
   "outputs": [],
   "source": []
  }
 ],
 "metadata": {
  "kernelspec": {
   "display_name": "Python 3 (ipykernel)",
   "language": "python",
   "name": "python3"
  },
  "language_info": {
   "codemirror_mode": {
    "name": "ipython",
    "version": 3
   },
   "file_extension": ".py",
   "mimetype": "text/x-python",
   "name": "python",
   "nbconvert_exporter": "python",
   "pygments_lexer": "ipython3",
   "version": "3.11.8"
  }
 },
 "nbformat": 4,
 "nbformat_minor": 5
}
