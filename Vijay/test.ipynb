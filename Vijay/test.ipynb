{
 "cells": [
  {
   "cell_type": "code",
   "execution_count": 1,
   "id": "0db5f05f-993a-40eb-bfdc-a179c8900b44",
   "metadata": {},
   "outputs": [],
   "source": [
    "from openai import OpenAI\n",
    "from dotenv import dotenv_values\n",
    "\n",
    "config = dotenv_values(\"../../.env\")\n",
    "client = OpenAI(api_key=config[\"open_api_key\"])"
   ]
  },
  {
   "cell_type": "code",
   "execution_count": 14,
   "id": "1542abe2",
   "metadata": {},
   "outputs": [],
   "source": [
    "message=[\n",
    "  {\"role\": \"system\", \"content\":\"You are compliance officer for one of the top asset manager companies in the world. Desired output is markdown.\"},\n",
    "  {\"role\": \"user\", \"content\":\"Write a policy related to gifts and entertainment that employees should follow. Policy should be 1000 words and have following sections, policy coverage (based on geographical location of employees), policy overview, and policy statement. policy statement should include as many sections as necessary.\" + \\\n",
    "        # \"Employees are located in the United States, the United Kingdom, Australia, and Canada. Each policy shall apply to no more than three countries.\"\n",
    "        # \"Employees are located in Canada. Each policy shall apply to Canada.\" + \\\n",
    "        # \"Employees are located in the United Kingdom. Each policy shall apply to the United Kindgom.\" + \\\n",
    "        \"This policy applies to employees regardless of their geographic location\" + \\\n",
    "        \"The name of the company is Wolfgang.\"\n",
    "        }\n",
    "  ]"
   ]
  },
  {
   "cell_type": "code",
   "execution_count": 15,
   "id": "72366c6b-783c-46ae-aeb1-ecbfc5ee032d",
   "metadata": {},
   "outputs": [
    {
     "name": "stdout",
     "output_type": "stream",
     "text": [
      "# Wolfgang Gifts and Entertainment Policy\n",
      "\n",
      "## Policy Coverage\n",
      "This policy applies to all employees of Wolfgang regardless of their geographic location. It is imperative that employees understand and adhere to the guidelines stipulated in this policy to ensure transparency, integrity, and professionalism in all business dealings.\n",
      "\n",
      "## Policy Overview\n",
      "At Wolfgang, we value ethical behavior and integrity in all aspects of our business operations. This includes maintaining high standards when it comes to gifts and entertainment offered by or provided to employees. This policy serves as a guideline to help employees make informed decisions when giving or receiving gifts and engaging in entertainment activities in the course of conducting Wolfgang's business.\n",
      "\n",
      "## Policy Statement\n",
      "\n",
      "### Giving and Receiving Gifts\n",
      "Wolfgang employees should always exercise caution and prudence when giving or accepting gifts in the course of their duties. Gifts should be nominal in value and must not be given with the expectation of receiving favorable treatment or preferential business outcomes. Employees are prohibited from offering cash, expensive gifts, or gifts that may be perceived as attempting to influence business decisions.\n",
      "\n",
      "### Disclosure of Gifts\n",
      "Employees who give or receive gifts must report such transactions to their immediate supervisor or the designated compliance officer. Transparency is key in maintaining the company's reputation and integrity, and any potential conflicts of interest must be promptly addressed and disclosed.\n",
      "\n",
      "### Entertainment\n",
      "Entertainment provided or received in connection with business activities must be reasonable, modest, and in line with industry norms. Employees should not engage in lavish or extravagant entertainment that could be misconstrued as an attempt to gain undue influence. Entertainment expenses must be accurately recorded and in compliance with company policies and procedures.\n",
      "\n",
      "### Guidelines for Vendor Gifts\n",
      "When dealing with vendors or external partners, employees should be cautious when giving or receiving gifts. Employees should not accept gifts of significant value or ones that may compromise their objectivity or independence. Employees should refer to the Wolfgang code of conduct for specific guidelines on gifts from vendors.\n",
      "\n",
      "### Compliance Training\n",
      "All employees are required to undergo regular compliance training to ensure a clear understanding of the company's policies and procedures related to gifts and entertainment. Employees are expected to complete the necessary training modules and stay up-to-date with any policy changes or updates.\n",
      "\n",
      "### Monitoring and Enforcement\n",
      "The compliance officer will monitor and enforce compliance with this policy through regular audits, reviews, and investigations. Any breaches of the gifts and entertainment policy will be thoroughly investigated, and appropriate disciplinary actions will be taken in line with company guidelines and local regulations.\n",
      "\n",
      "### Reporting Breaches\n",
      "Employees who become aware of potential breaches of this policy are encouraged to report such incidents through the company's confidential reporting channels. Whistleblower protection is in place to safeguard employees who report violations in good faith.\n",
      "\n",
      "### Policy Review\n",
      "This policy will be reviewed annually to ensure its relevance and effectiveness in guiding employee conduct related to gifts and entertainment. Any updates or revisions to the policy will be communicated to employees in a timely manner.\n",
      "\n",
      "By adhering to the guidelines outlined in this policy, Wolfgang employees contribute to fostering a culture of transparency, integrity, and ethical behavior in all business interactions. Employees are expected to familiarize themselves with this policy and seek guidance from the compliance officer when in doubt about the appropriateness of giving or receiving gifts and entertainment.\n"
     ]
    }
   ],
   "source": [
    "response = client.chat.completions.create(\n",
    "    model=\"gpt-3.5-turbo\",\n",
    "    messages=message\n",
    "    #response_format=  { \"type\": \"json_object\" }\n",
    ")\n",
    "\n",
    "print(response.choices[0].message.content)"
   ]
  },
  {
   "cell_type": "code",
   "execution_count": null,
   "id": "5a79af6d-4674-4262-89a0-caaf5b1f06a6",
   "metadata": {},
   "outputs": [],
   "source": []
  }
 ],
 "metadata": {
  "kernelspec": {
   "display_name": "Python 3 (ipykernel)",
   "language": "python",
   "name": "python3"
  },
  "language_info": {
   "codemirror_mode": {
    "name": "ipython",
    "version": 3
   },
   "file_extension": ".py",
   "mimetype": "text/x-python",
   "name": "python",
   "nbconvert_exporter": "python",
   "pygments_lexer": "ipython3",
   "version": "3.11.8"
  }
 },
 "nbformat": 4,
 "nbformat_minor": 5
}
