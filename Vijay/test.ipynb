{
 "cells": [
  {
   "cell_type": "code",
   "execution_count": 8,
   "id": "0db5f05f-993a-40eb-bfdc-a179c8900b44",
   "metadata": {},
   "outputs": [],
   "source": [
    "from openai import OpenAI\n",
    "from dotenv import dotenv_values\n",
    "\n",
    "config = dotenv_values(\"../../.env\")\n",
    "client = OpenAI(api_key=config[\"open_api_key\"])"
   ]
  },
  {
   "cell_type": "code",
   "execution_count": 14,
   "id": "1542abe2",
   "metadata": {},
   "outputs": [],
   "source": [
    "message=[\n",
    "  {\"role\": \"system\", \"content\":\"You are compliance officer for one of the top asset manager companies in the world. Desired output is markdown.\"},\n",
    "  {\"role\": \"user\", \"content\":\"Write a policy related to charitable contributions that employees should follow. Policy should be 1000 words and have following sections, policy coverage (based on geographical location of employees), policy overview, and policy statement. policy statement should include as many sections as necessary.\" + \\\n",
    "        # \"Employees are located in the United States, the United Kingdom, Australia, and Canada. Each policy shall apply to no more than three countries.\"\n",
    "        \"Employees are located in Canada. Each policy shall apply to Canada.\" + \\\n",
    "        \"The name of the company is Wolfgang.\"\n",
    "        }\n",
    "  ]"
   ]
  },
  {
   "cell_type": "code",
   "execution_count": 15,
   "id": "72366c6b-783c-46ae-aeb1-ecbfc5ee032d",
   "metadata": {},
   "outputs": [
    {
     "name": "stdout",
     "output_type": "stream",
     "text": [
      "# Charitable Contributions Policy\n",
      "\n",
      "## Policy Coverage\n",
      "This Charitable Contributions Policy applies to all employees of Wolfgang located in Canada. This policy applies to all charitable contributions made by employees on behalf of Wolfgang or using company resources.\n",
      "\n",
      "## Policy Overview\n",
      "At Wolfgang, we recognize the importance of giving back to the community and supporting charitable causes. We believe that contributing to charitable organizations not only benefits the recipients but also promotes a sense of social responsibility and goodwill among our employees.\n",
      "\n",
      "This policy is established to ensure that charitable contributions made by employees align with Wolfgang’s values, ethics, and objectives. It provides guidelines for employees to follow when making charitable donations or engaging in fundraising activities on behalf of the company.\n",
      "\n",
      "## Policy Statement\n",
      "\n",
      "### 1. Approval Process\n",
      "All charitable contributions made on behalf of Wolfgang must be pre-approved by the Compliance Officer. Employees are required to submit a written request detailing the organization or cause they wish to support, the amount of the contribution, and the purpose of the donation.\n",
      "\n",
      "### 2. Eligible Organizations\n",
      "Wolfgang supports a wide range of charitable organizations, including registered charities, non-profit organizations, and community initiatives. However, employees are encouraged to focus their support on organizations that align with the company’s values and areas of interest, such as education, healthcare, environmental conservation, and social welfare.\n",
      "\n",
      "### 3. Donation Matching\n",
      "Wolfgang is committed to supporting the charitable efforts of our employees. As part of our commitment to corporate social responsibility, the company may match employee donations to eligible organizations up to a certain amount, subject to budgetary constraints.\n",
      "\n",
      "### 4. Fundraising Activities\n",
      "Employees who wish to organize fundraising activities or events on behalf of Wolfgang must obtain prior approval from the Compliance Officer. Fundraising activities should be conducted in a professional manner and adhere to all relevant laws and regulations.\n",
      "\n",
      "### 5. Publicity and Recognition\n",
      "Wolfgang may publicize and recognize employee charitable contributions through internal communications, social media, or other channels. Employees who wish to remain anonymous or keep their donations private should inform the Compliance Officer in writing.\n",
      "\n",
      "### 6. Recordkeeping\n",
      "Employees are required to keep records of all charitable contributions made on behalf of Wolfgang, including receipts, donation confirmations, and any relevant documentation. These records should be submitted to the Compliance Officer for review and approval.\n",
      "\n",
      "### 7. Code of Conduct\n",
      "Employees are expected to uphold Wolfgang’s Code of Conduct when engaging in charitable activities. This includes acting with integrity, honesty, and respect towards all individuals and organizations involved in the charitable process.\n",
      "\n",
      "### 8. Non-Compliance\n",
      "Any employee found to be in violation of this policy may be subject to disciplinary action, up to and including termination of employment. Wolfgang takes non-compliance with its charitable contributions policy seriously and will investigate any reported misconduct.\n",
      "\n",
      "By following this Charitable Contributions Policy, employees of Wolfgang can contribute to worthy causes effectively and responsibly, while upholding the company’s values and commitment to making a positive impact on the community.\n",
      "\n"
     ]
    }
   ],
   "source": [
    "response = client.chat.completions.create(\n",
    "    model=\"gpt-3.5-turbo\",\n",
    "    messages=message\n",
    "    #response_format=  { \"type\": \"json_object\" }\n",
    ")\n",
    "\n",
    "print(response.choices[0].message.content)"
   ]
  },
  {
   "cell_type": "code",
   "execution_count": null,
   "id": "5a79af6d-4674-4262-89a0-caaf5b1f06a6",
   "metadata": {},
   "outputs": [],
   "source": []
  }
 ],
 "metadata": {
  "kernelspec": {
   "display_name": "Python 3 (ipykernel)",
   "language": "python",
   "name": "python3"
  },
  "language_info": {
   "codemirror_mode": {
    "name": "ipython",
    "version": 3
   },
   "file_extension": ".py",
   "mimetype": "text/x-python",
   "name": "python",
   "nbconvert_exporter": "python",
   "pygments_lexer": "ipython3",
   "version": "3.11.8"
  }
 },
 "nbformat": 4,
 "nbformat_minor": 5
}
