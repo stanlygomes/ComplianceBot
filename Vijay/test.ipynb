{
 "cells": [
  {
   "cell_type": "code",
   "execution_count": 8,
   "id": "0db5f05f-993a-40eb-bfdc-a179c8900b44",
   "metadata": {},
   "outputs": [],
   "source": [
    "from openai import OpenAI\n",
    "from dotenv import dotenv_values\n",
    "\n",
    "config = dotenv_values(\"../../.env\")\n",
    "client = OpenAI(api_key=config[\"open_api_key\"])"
   ]
  },
  {
   "cell_type": "code",
   "execution_count": 28,
   "id": "1542abe2",
   "metadata": {},
   "outputs": [],
   "source": [
    "message=[\n",
    "  {\"role\": \"system\", \"content\":\"You are compliance officer for one of the top asset manager companies in the world. Desired output is markdown.\"},\n",
    "  {\"role\": \"user\", \"content\":\"Write a policy related to information security that employees should follow. Policy should be 1000 words and have following sections, policy coverage (based on geographical location of employees), policy overview, and policy statement. policy statement should include as many sections as necessary.\" + \\\n",
    "        # \"Employees are located in the United States, the United Kingdom, Australia, and Canada. Each policy shall apply to no more than three countries.\"\n",
    "        \"Employees are located in Canada. Each policy shall apply to Canada.\" + \\\n",
    "        \"The name of the company is Wolfgang.\"\n",
    "        }\n",
    "  ]"
   ]
  },
  {
   "cell_type": "code",
   "execution_count": 29,
   "id": "72366c6b-783c-46ae-aeb1-ecbfc5ee032d",
   "metadata": {},
   "outputs": [
    {
     "name": "stdout",
     "output_type": "stream",
     "text": [
      "# Information Security Policy\n",
      "\n",
      "## Policy Coverage\n",
      "\n",
      "This Information Security Policy applies to all employees, contractors, consultants, and third-party vendors of Wolfgang who are based in Canada. This policy outlines the essential guidelines and best practices that must be adhered to in order to ensure the confidentiality, integrity, and availability of Wolfgang's information assets and minimize the risks associated with unauthorized access, use, disclosure, disruption, modification, or destruction of such assets.\n",
      "\n",
      "## Policy Overview\n",
      "\n",
      "Information is a valuable asset for Wolfgang, and it is crucial that all employees understand their roles and responsibilities in protecting this information. Information security is not only about safeguarding data and systems but also about maintaining the trust of our clients, partners, and stakeholders. Therefore, every employee plays a key role in upholding the principles and practices outlined in this policy.\n",
      "\n",
      "Wolfgang's Information Security Policy is designed to establish a robust framework that promotes the confidentiality, integrity, and availability of information assets. This policy provides guidelines on various aspects of information security, including data classification, access control, network security, incident response, and compliance requirements. By following this policy diligently, employees can contribute to a secure and resilient information environment for Wolfgang.\n",
      "\n",
      "## Policy Statement\n",
      "\n",
      "### Data Classification\n",
      "\n",
      "1. **Confidentiality**: Employees must classify data based on its sensitivity and criticality to Wolfgang. Data should be labeled as confidential, internal use only, or public based on its impact on the organization if compromised.\n",
      "\n",
      "### Access Control\n",
      "\n",
      "1. **User Accounts**: Employees are responsible for maintaining the confidentiality of their account credentials and should not share them with unauthorized individuals. Strong passwords and multi-factor authentication must be used to protect user accounts.\n",
      "\n",
      "2. **Access Levels**: Access to systems, applications, and data should be granted on a need-to-know basis. Managers are responsible for ensuring that employees have the appropriate access rights for their roles.\n",
      "\n",
      "### Network Security\n",
      "\n",
      "1. **Wireless Networks**: Wireless networks must be encrypted and secured with strong passwords. Guest networks should be isolated from internal resources to prevent unauthorized access.\n",
      "\n",
      "2. **Remote Access**: Employees accessing Wolfgang's network remotely must do so through secure connections, such as virtual private networks (VPNs). Remote access sessions should be logged and monitored for security purposes.\n",
      "\n",
      "### Incident Response\n",
      "\n",
      "1. **Reporting Incidents**: Employees must report any suspected or actual security incidents to the IT department immediately. This includes incidents involving malware infections, unauthorized access, data breaches, or any other security-related incidents.\n",
      "\n",
      "2. **Investigation**: The IT department will conduct a thorough investigation of reported incidents to determine the cause, scope, and impact of the incident. Employees are expected to cooperate with the investigation process and provide any relevant information.\n",
      "\n",
      "### Compliance Requirements\n",
      "\n",
      "1. **Regulatory Compliance**: Employees must comply with all applicable laws, regulations, and industry standards related to information security. This includes but is not limited to the Personal Information Protection and Electronic Documents Act (PIPEDA) in Canada.\n",
      "\n",
      "2. **Policy Adherence**: Employees are required to read, understand, and comply with Wolfgang's Information Security Policy. Non-compliance with this policy may result in disciplinary action, up to and including termination of employment.\n",
      "\n",
      "By following the guidelines outlined in this policy, employees can contribute to a secure and resilient information environment at Wolfgang while upholding the trust and confidence of our clients and partners. It is the responsibility of each employee to ensure that information security best practices are consistently applied in their day-to-day activities to protect Wolfgang's assets and reputation.\n"
     ]
    }
   ],
   "source": [
    "response = client.chat.completions.create(\n",
    "    model=\"gpt-3.5-turbo\",\n",
    "    messages=message\n",
    "    #response_format=  { \"type\": \"json_object\" }\n",
    ")\n",
    "\n",
    "print(response.choices[0].message.content)"
   ]
  },
  {
   "cell_type": "code",
   "execution_count": null,
   "id": "5a79af6d-4674-4262-89a0-caaf5b1f06a6",
   "metadata": {},
   "outputs": [],
   "source": []
  }
 ],
 "metadata": {
  "kernelspec": {
   "display_name": "Python 3 (ipykernel)",
   "language": "python",
   "name": "python3"
  },
  "language_info": {
   "codemirror_mode": {
    "name": "ipython",
    "version": 3
   },
   "file_extension": ".py",
   "mimetype": "text/x-python",
   "name": "python",
   "nbconvert_exporter": "python",
   "pygments_lexer": "ipython3",
   "version": "3.11.8"
  }
 },
 "nbformat": 4,
 "nbformat_minor": 5
}
