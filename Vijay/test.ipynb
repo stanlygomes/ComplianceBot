{
 "cells": [
  {
   "cell_type": "code",
   "execution_count": 19,
   "id": "0db5f05f-993a-40eb-bfdc-a179c8900b44",
   "metadata": {},
   "outputs": [],
   "source": [
    "from openai import OpenAI\n",
    "from dotenv import dotenv_values\n",
    "\n",
    "config = dotenv_values(\".env\")\n",
    "client = OpenAI(api_key=config[\"open_api_key\"])"
   ]
  },
  {
   "cell_type": "code",
   "execution_count": 74,
   "id": "1542abe2",
   "metadata": {},
   "outputs": [],
   "source": [
    "message=[\n",
    "  {\"role\": \"system\", \"content\":\"You are compliance officer for one of the top asset manager companies in the world. Desired output is markdown .\"},\n",
    "  {\"role\": \"user\", \"content\":\"Write a policy related to anti money laundary that employees should follow. Policy should be 1000 words and have following sections, policy coverage (based on geographical location of employees), policy overview, and policy statement. policy statement should include as many sections as necessary.\"}\n",
    "  ]"
   ]
  },
  {
   "cell_type": "code",
   "execution_count": 75,
   "id": "72366c6b-783c-46ae-aeb1-ecbfc5ee032d",
   "metadata": {},
   "outputs": [
    {
     "name": "stdout",
     "output_type": "stream",
     "text": [
      "# Personal Devices at Work Policy\n",
      "\n",
      "## Policy Coverage\n",
      "\n",
      "This policy applies to all employees of [Company Name] who use personal devices for work-related purposes, including but not limited to smartphones, laptops, tablets, and other electronic devices. It applies to employees working in all geographical locations where [Company Name] operates. \n",
      "\n",
      "## Policy Overview\n",
      "\n",
      "At [Company Name], we recognize the importance of allowing employees to use their personal devices for work-related tasks to enhance productivity, flexibility, and convenience. However, the use of personal devices at work also presents certain risks to the security and confidentiality of company information. Therefore, this policy aims to establish guidelines and best practices for employees to follow when using personal devices for work purposes.\n",
      "\n",
      "## Policy Statement\n",
      "\n",
      "### 1. Acceptable Use\n",
      "\n",
      "Employees are permitted to use personal devices for work-related tasks such as checking emails, participating in conference calls, accessing company documents, and using approved applications. However, personal devices should primarily be used for work purposes and should not be used for personal activities during working hours.\n",
      "\n",
      "### 2. Security Measures\n",
      "\n",
      "Employees using personal devices for work purposes are required to adhere to all company security policies and practices. This includes but is not limited to:\n",
      "\n",
      "- Keeping devices password-protected.\n",
      "- Enabling encryption on devices to protect sensitive data.\n",
      "- Installing and regularly updating antivirus and security software.\n",
      "- Not sharing devices or login credentials with others.\n",
      "\n",
      "### 3. Data Protection\n",
      "\n",
      "Employees must ensure that company data stored or accessed on personal devices is safeguarded against unauthorized access, loss, or theft. Employees are prohibited from storing sensitive company information on personal devices unless approved by the IT department. In the event of a lost or stolen device, employees must report it immediately to the IT department.\n",
      "\n",
      "### 4. Software and Application Management\n",
      "\n",
      "Employees are responsible for ensuring that all software and applications installed on their personal devices are up to date and licensed properly. Only approved software and applications should be used for work-related tasks. Employees should not download unauthorized software or applications that may pose security risks to company data.\n",
      "\n",
      "### 5. Connectivity\n",
      "\n",
      "When using personal devices to access company networks or data, employees must ensure they are connected to secure and trusted networks. Public Wi-Fi networks should be avoided for transmitting sensitive company information. Employees should use virtual private networks (VPNs) when accessing company resources remotely.\n",
      "\n",
      "### 6. Compliance with Company Policies\n",
      "\n",
      "Employees using personal devices for work purposes must comply with all company policies, including but not limited to the Acceptable Use Policy, Information Security Policy, and Data Protection Policy. Failure to comply with these policies may result in disciplinary action, up to and including termination of employment.\n",
      "\n",
      "### 7. Reporting Security Incidents\n",
      "\n",
      "Employees must report any security incidents, data breaches, or suspected unauthorized access to company data on personal devices immediately to the IT department. Prompt reporting is crucial to mitigating potential risks and protecting company information.\n",
      "\n",
      "### 8. Monitoring and Auditing\n",
      "\n",
      "The IT department reserves the right to monitor and audit personal devices used for work-related purposes to ensure compliance with this policy and company security standards. By connecting personal devices to company networks or systems, employees consent to monitoring and auditing activities by the IT department.\n",
      "\n",
      "### 9. Employee Responsibility\n",
      "\n",
      "Employees are responsible for the security and integrity of company data accessed or stored on personal devices. It is the responsibility of employees to follow the guidelines outlined in this policy and take necessary precautions to prevent security incidents and data breaches.\n",
      "\n",
      "## Conclusion\n",
      "\n",
      "By adhering to this Personal Devices at Work Policy, employees of [Company Name] can contribute to maintaining a secure and productive work environment while leveraging the benefits of using personal devices for work-related tasks. Employees are encouraged to seek guidance from the IT department if they have any questions or concerns regarding the use of personal devices for work purposes.\n"
     ]
    }
   ],
   "source": [
    "response = client.chat.completions.create(\n",
    "    model=\"gpt-3.5-turbo\",\n",
    "    messages=message\n",
    "    #response_format=  { \"type\": \"json_object\" }\n",
    ")\n",
    "\n",
    "print(response.choices[0].message.content)"
   ]
  },
  {
   "cell_type": "code",
   "execution_count": null,
   "id": "5a79af6d-4674-4262-89a0-caaf5b1f06a6",
   "metadata": {},
   "outputs": [],
   "source": []
  }
 ],
 "metadata": {
  "kernelspec": {
   "display_name": "Python 3 (ipykernel)",
   "language": "python",
   "name": "python3"
  },
  "language_info": {
   "codemirror_mode": {
    "name": "ipython",
    "version": 3
   },
   "file_extension": ".py",
   "mimetype": "text/x-python",
   "name": "python",
   "nbconvert_exporter": "python",
   "pygments_lexer": "ipython3",
   "version": "3.11.8"
  }
 },
 "nbformat": 4,
 "nbformat_minor": 5
}
