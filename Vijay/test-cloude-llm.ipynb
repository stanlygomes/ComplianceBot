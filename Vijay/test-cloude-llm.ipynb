{
 "cells": [
  {
   "cell_type": "code",
   "execution_count": 1,
   "id": "0db5f05f-993a-40eb-bfdc-a179c8900b44",
   "metadata": {},
   "outputs": [],
   "source": [
    "from openai import OpenAI\n",
    "from dotenv import dotenv_values\n",
    "\n",
    "config = dotenv_values(\".env\")\n",
    "client = OpenAI(api_key=config[\"open_api_key\"])"
   ]
  },
  {
   "cell_type": "code",
   "execution_count": 2,
   "id": "1542abe2",
   "metadata": {},
   "outputs": [],
   "source": [
    "message=[\n",
    "  {\"role\": \"system\", \"content\":\"You are compliance officer for one of the top asset manager companies in the world. Desired output is markdown .\"},\n",
    "  {\"role\": \"user\", \"content\":\"Write a policy related to anti money laundary that employees should follow. Policy should be 1000 words and have following sections, policy coverage (based on geographical location of employees), policy overview, and policy statement. policy statement should include as many sections as necessary.\"}\n",
    "  ]"
   ]
  },
  {
   "cell_type": "code",
   "execution_count": 3,
   "id": "72366c6b-783c-46ae-aeb1-ecbfc5ee032d",
   "metadata": {},
   "outputs": [
    {
     "name": "stdout",
     "output_type": "stream",
     "text": [
      "# Anti-Money Laundering Policy\n",
      "\n",
      "## Policy Coverage\n",
      "This Anti-Money Laundering (AML) policy applies to all employees of [Company Name], regardless of their geographical location. As a global asset manager, we are committed to preventing money laundering and terrorist financing activities across all jurisdictions where we operate. All employees must comply with this policy and adhere to the relevant laws and regulations governing AML activities in their respective regions.\n",
      "\n",
      "## Policy Overview\n",
      "Money laundering is the process of concealing the origins of illegally obtained money by passing it through a complex sequence of banking transfers or commercial transactions. Terrorist financing involves providing funding or financial support to individuals or groups engaged in terrorist activities. Both activities have serious implications on the financial system, national security, and global economy. As a responsible asset manager, we have a duty to detect, prevent, and report any suspicious activities that could be linked to money laundering or terrorist financing.\n",
      "\n",
      "## Policy Statement\n",
      "\n",
      "### Compliance Program\n",
      "- **Risk Assessment**: Conduct regular risk assessments to identify potential money laundering and terrorist financing risks associated with our products, services, clients, and geographic locations.\n",
      "- **Policies and Procedures**: Develop and implement robust AML policies and procedures to mitigate identified risks and ensure compliance with applicable laws and regulations.\n",
      "- **Training**: Provide comprehensive training to all employees on AML laws, regulations, and company policies to raise awareness and support effective implementation.\n",
      "- **Monitoring and Reporting**: Establish systems for monitoring transactions, identifying suspicious activities, and reporting them to the appropriate authorities in a timely manner.\n",
      "\n",
      "### Customer Due Diligence\n",
      "- **Know Your Customer (KYC)**: Collect and verify customer identification information, conduct enhanced due diligence on high-risk clients, and monitor customer transactions for unusual activities.\n",
      "- **Politically Exposed Persons (PEPs)**: Identify and assess relationships with PEPs to mitigate risks associated with potential bribery, corruption, and money laundering.\n",
      "\n",
      "### Transaction Monitoring\n",
      "- **Automated Systems**: Utilize automated transaction monitoring systems to detect patterns of suspicious activities, including unusual transaction amounts, frequency, and sources of funds.\n",
      "- **Manual Review**: Conduct manual reviews of flagged transactions, investigate potential money laundering or terrorist financing activities, and escalate findings to the compliance team.\n",
      "\n",
      "### Reporting and Recordkeeping\n",
      "- **Suspicious Activity Reports (SARs)**: Document and file SARs with the relevant authorities when there are reasonable grounds to suspect money laundering or terrorist financing activities.\n",
      "- **Record Retention**: Maintain accurate records of customer transactions, due diligence checks, AML training, and compliance activities to demonstrate compliance with AML policies and regulatory requirements.\n",
      "\n",
      "### Sanctions Compliance\n",
      "- **Restricted Parties Screening**: Screen customers and transactions against sanctions lists issued by government authorities to prevent doing business with sanctioned entities or individuals.\n",
      "- **Prohibited Activities**: Prohibit engaging in transactions with individuals or entities involved in illicit activities, including money laundering, terrorist financing, and other criminal behaviors.\n",
      "\n",
      "### Internal Controls\n",
      "- **Segregation of Duties**: Implement segregation of duties to prevent conflicts of interest and ensure proper oversight of AML activities.\n",
      "- **Independent Audit**: Conduct regular independent audits of AML compliance programs to assess effectiveness, identify weaknesses, and implement improvements as needed.\n",
      "\n",
      "### Whistleblower Policy\n",
      "- **Confidential Reporting**: Provide employees with a confidential reporting mechanism to report suspected AML violations or concerns without fear of retaliation.\n",
      "- **Non-Retaliation**: Prohibit retaliation against employees who report AML violations in good faith and ensure appropriate investigation and resolution of reported issues.\n",
      "\n",
      "## Conclusion\n",
      "Money laundering and terrorist financing pose significant risks to the financial industry and can have serious consequences for our company's reputation, financial stability, and legal compliance. By adhering to this AML policy and actively participating in our AML compliance program, employees play a vital role in upholding our commitment to integrity, transparency, and regulatory compliance. Together, we can effectively prevent and detect illicit activities, safeguard our business operations, and contribute to a more secure and sustainable financial system.\n",
      "\n",
      "[Company Name] reserves the right to update, modify, or amend this AML policy as necessary to ensure ongoing compliance with evolving laws, regulations, and industry best practices. Employees are required to review and acknowledge their understanding of this policy on an annual basis or as determined by the compliance team. Failure to comply with this policy may result in disciplinary action, up to and including termination of employment.\n",
      "\n",
      "Approved by:\n",
      "\n",
      "___________________________  \n",
      "[Compliance Officer]  \n",
      "[Company Name]\n",
      "\n",
      "Date: ________________\n"
     ]
    }
   ],
   "source": [
    "response = client.chat.completions.create(\n",
    "    model=\"gpt-3.5-turbo\",\n",
    "    messages=message\n",
    "    #response_format=  { \"type\": \"json_object\" }\n",
    ")\n",
    "\n",
    "print(response.choices[0].message.content)"
   ]
  },
  {
   "cell_type": "code",
   "execution_count": null,
   "id": "5a79af6d-4674-4262-89a0-caaf5b1f06a6",
   "metadata": {},
   "outputs": [],
   "source": []
  }
 ],
 "metadata": {
  "kernelspec": {
   "display_name": "Python 3 (ipykernel)",
   "language": "python",
   "name": "python3"
  },
  "language_info": {
   "codemirror_mode": {
    "name": "ipython",
    "version": 3
   },
   "file_extension": ".py",
   "mimetype": "text/x-python",
   "name": "python",
   "nbconvert_exporter": "python",
   "pygments_lexer": "ipython3",
   "version": "3.11.8"
  }
 },
 "nbformat": 4,
 "nbformat_minor": 5
}
