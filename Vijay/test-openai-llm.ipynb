{
 "cells": [
  {
   "cell_type": "code",
   "execution_count": 10,
   "id": "0db5f05f-993a-40eb-bfdc-a179c8900b44",
   "metadata": {},
   "outputs": [],
   "source": [
    "from openai import OpenAI\n",
    "from dotenv import dotenv_values\n",
    "\n",
    "config = dotenv_values(\".env\")\n",
    "client = OpenAI(api_key=config[\"open_api_key\"])"
   ]
  },
  {
   "cell_type": "code",
   "execution_count": 11,
   "id": "1542abe2",
   "metadata": {},
   "outputs": [],
   "source": [
    "message=[\n",
    "  {\"role\": \"system\", \"content\":\"You are compliance officer for one of the top asset manager companies in the world. Desired output is markdown .\"},\n",
    "  {\"role\": \"user\", \"content\":\"Write a policy related to anti money laundary that employees should follow. Policy should be 1000 words and have following sections, policy coverage (based on geographical location of employees), policy overview, and policy statement. policy statement should include as many sections as necessary.\"}\n",
    "  ]"
   ]
  },
  {
   "cell_type": "code",
   "execution_count": 12,
   "id": "72366c6b-783c-46ae-aeb1-ecbfc5ee032d",
   "metadata": {},
   "outputs": [
    {
     "name": "stdout",
     "output_type": "stream",
     "text": [
      "# Anti-Money Laundering Policy\n",
      "\n",
      "## Policy Coverage\n",
      "\n",
      "This Anti-Money Laundering (AML) Policy applies to all employees of XYZ Asset Management Company, regardless of their geographical location. As a global organization, we are committed to upholding the highest standards of ethics and integrity in our business operations around the world. This policy is designed to ensure compliance with relevant laws and regulations governing anti-money laundering practices, including but not limited to the Bank Secrecy Act (BSA) and the Financial Action Task Force (FATF) recommendations.\n",
      "\n",
      "## Policy Overview\n",
      "\n",
      "Money laundering poses a significant risk to the financial industry and the wider economy by enabling criminals to legitimize illicit funds and evade law enforcement authorities. As a leading asset manager, XYZ is dedicated to preventing our services from being exploited for illicit purposes. This policy outlines the procedures and controls that employees must adhere to in order to detect, prevent, and report any suspicious activities related to money laundering.\n",
      "\n",
      "## Policy Statement\n",
      "\n",
      "### 1. Responsibilities of Employees\n",
      "\n",
      "All employees of XYZ Asset Management Company are responsible for complying with AML laws and regulations. This includes understanding and following the company's AML policies and procedures, remaining vigilant for any signs of potential money laundering activities, and reporting any suspicious transactions or behavior to the designated compliance officer.\n",
      "\n",
      "### 2. Customer Due Diligence\n",
      "\n",
      "Employees must conduct thorough due diligence on all customers before establishing a business relationship or executing transactions on their behalf. This includes verifying the identity of the customer, assessing the nature and purpose of the relationship, and monitoring transactions for any inconsistencies with the customer's profile.\n",
      "\n",
      "### 3. Enhanced Due Diligence\n",
      "\n",
      "For high-risk customers or transactions, enhanced due diligence measures must be applied to mitigate the risk of money laundering. This may include obtaining additional information on the customer's source of funds, conducting more frequent transaction monitoring, and seeking approval from senior management before proceeding with the relationship.\n",
      "\n",
      "### 4. Transaction Monitoring\n",
      "\n",
      "Employees are required to monitor transactions for any unusual or suspicious activities that may indicate money laundering. This includes keeping a record of all transactions, tracking the flow of funds, and flagging any transactions that deviate from the expected pattern or are not in line with the customer's profile.\n",
      "\n",
      "### 5. Reporting Obligations\n",
      "\n",
      "Employees must promptly report any suspicious transactions or activities to the designated compliance officer. This includes providing all relevant information and supporting documentation to assist in the investigation of potential money laundering cases. Employees are protected from retaliation for reporting suspicious activities in good faith.\n",
      "\n",
      "### 6. Training and Awareness\n",
      "\n",
      "XYZ Asset Management Company will provide regular training and awareness programs to employees on AML policies and procedures. This will ensure that employees understand their obligations and are equipped to identify and report potential money laundering activities effectively.\n",
      "\n",
      "### 7. Record-keeping\n",
      "\n",
      "Employees must maintain accurate and up-to-date records of all transactions, customer due diligence, and AML compliance activities. These records must be retained for the required period as per regulatory requirements and made available for audit or examination by relevant authorities.\n",
      "\n",
      "### 8. Compliance Monitoring\n",
      "\n",
      "The compliance officer will conduct regular reviews and audits to assess the effectiveness of the AML program and ensure that employees are adhering to the policy. Any deficiencies or non-compliance issues will be promptly addressed, and corrective actions will be implemented to strengthen the AML controls.\n",
      "\n",
      "In conclusion, the XYZ Asset Management Company is committed to maintaining a robust AML program to protect the integrity of our services and the financial system as a whole. By following this policy and staying vigilant against potential money laundering risks, employees play a critical role in safeguarding the company's reputation and fulfilling our regulatory obligations.\n"
     ]
    }
   ],
   "source": [
    "response = client.chat.completions.create(\n",
    "    model=\"gpt-4\",\n",
    "    messages=message\n",
    "    #response_format=  { \"type\": \"json_object\" }\n",
    ")\n",
    "\n",
    "print(response.choices[0].message.content)"
   ]
  },
  {
   "cell_type": "code",
   "execution_count": null,
   "id": "5a79af6d-4674-4262-89a0-caaf5b1f06a6",
   "metadata": {},
   "outputs": [],
   "source": []
  }
 ],
 "metadata": {
  "kernelspec": {
   "display_name": "Python 3 (ipykernel)",
   "language": "python",
   "name": "python3"
  },
  "language_info": {
   "codemirror_mode": {
    "name": "ipython",
    "version": 3
   },
   "file_extension": ".py",
   "mimetype": "text/x-python",
   "name": "python",
   "nbconvert_exporter": "python",
   "pygments_lexer": "ipython3",
   "version": "3.11.8"
  }
 },
 "nbformat": 4,
 "nbformat_minor": 5
}
