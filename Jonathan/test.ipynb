{
 "cells": [
  {
   "cell_type": "code",
   "execution_count": 67,
   "metadata": {},
   "outputs": [],
   "source": [
    "import openai\n",
    "import textwrap\n",
    "import json\n",
    "from tabulate import tabulate\n",
    "from dotenv import dotenv_values\n",
    "wrapper = textwrap.TextWrapper(width=80) "
   ]
  },
  {
   "cell_type": "code",
   "execution_count": 39,
   "metadata": {},
   "outputs": [],
   "source": [
    "config = dotenv_values(\"../../.env\")\n",
    "openai.api_key = config[\"OPENAI_API_KEY\"]"
   ]
  },
  {
   "cell_type": "code",
   "execution_count": 40,
   "metadata": {},
   "outputs": [],
   "source": [
    "msg = [{\n",
    "        \"role\": \"system\", \"content\": \"You are an assistant who is knowledgeable about Vanguard's compliance policies.\",\n",
    "        \"role\": \"user\", \"content\": \"I am a Vanguard employee. Is my spouse allowed to own a non-Vanguard non-managed brokerage account?\"\n",
    "    }]"
   ]
  },
  {
   "cell_type": "code",
   "execution_count": 41,
   "metadata": {},
   "outputs": [],
   "source": [
    "response = openai.chat.completions.create(\n",
    "    model=\"gpt-3.5-turbo\",\n",
    "    messages=msg\n",
    ")"
   ]
  },
  {
   "cell_type": "code",
   "execution_count": 42,
   "metadata": {},
   "outputs": [
    {
     "name": "stdout",
     "output_type": "stream",
     "text": [
      "As a Vanguard employee, your spouse is allowed to own a non-Vanguard non-managed\n",
      "brokerage account. It is important to disclose any outside brokerage accounts or\n",
      "investments to your employer to ensure compliance with company policies and\n",
      "regulations. It is recommended to consult with your HR department or compliance\n",
      "officer for more information on this matter.\n"
     ]
    }
   ],
   "source": [
    "resp_text = response.choices[0].message.content\n",
    "word_list = wrapper.wrap(text=resp_text) \n",
    "  \n",
    "# Print each line. \n",
    "for element in word_list: \n",
    "    print(element) "
   ]
  },
  {
   "cell_type": "code",
   "execution_count": 45,
   "metadata": {},
   "outputs": [],
   "source": [
    "num_docs = 10\n",
    "user_msg = f\"Generate {num_docs} unique compliance policy documents\" + \\\n",
    "            \"These documents can range anywhere from 100 to 1000 words\" + \\\n",
    "            \"Format your response as a JSON Object\"\n",
    "msg = [{\n",
    "        \"role\": \"system\", \"content\": \"You are an assistant who is knowledgeable about compliance policies in the finance industry.\",\n",
    "        \"role\": \"user\", \"content\": user_msg\n",
    "    }]"
   ]
  },
  {
   "cell_type": "code",
   "execution_count": 46,
   "metadata": {},
   "outputs": [],
   "source": [
    "response_comp = openai.chat.completions.create(\n",
    "    model=\"gpt-3.5-turbo\",\n",
    "    messages=msg,\n",
    "    response_format = { \"type\": \"json_object\" }\n",
    ")"
   ]
  },
  {
   "cell_type": "code",
   "execution_count": 62,
   "metadata": {},
   "outputs": [
    {
     "name": "stdout",
     "output_type": "stream",
     "text": [
      "<class 'str'>\n",
      "This document outlines the company's compliance policy with regard to data protection regulations. It covers the collection, storage, and sharing of personal information, as well as the measures in place to ensure compliance with laws such as GDPR.\n"
     ]
    }
   ],
   "source": [
    "resp_text = response_comp.choices[0].message.content\n",
    "print(type(resp_text))\n",
    "#print(resp_text)\n",
    "resp_text_json = json.loads(resp_text)\n",
    "print(resp_text_json[f'compliance_policy_{1}'])"
   ]
  },
  {
   "cell_type": "code",
   "execution_count": 78,
   "metadata": {},
   "outputs": [],
   "source": [
    "for i_doc in range(num_docs):\n",
    "    # json_file_name = f'compliance_docs_{i_doc + 1}.json'\n",
    "    md_file_name = f'md/compliance_docs_{i_doc + 1}.md'\n",
    "    with open(json_file_name, 'w', encoding='utf-8') as f:\n",
    "        json_text_selected = {f\"compliance_policy_{i_doc+1}\": resp_text_json[f\"compliance_policy_{i_doc+1}\"]}\n",
    "        json_table = [list(item.values()) for item in [json_text_selected]]\n",
    "\n",
    "        markdown = tabulate(json_table, headers=\"keys\", tablefmt=\"pipe\")\n",
    "        md_file = open(md_file_name, 'w')\n",
    "        md_file.write(markdown)\n",
    "        md_file.close()\n",
    "\n",
    "        # json.dump(json_text_selected, f, ensure_ascii=False, indent=4)"
   ]
  }
 ],
 "metadata": {
  "kernelspec": {
   "display_name": "Python 3 (ipykernel)",
   "language": "python",
   "name": "python3"
  },
  "language_info": {
   "codemirror_mode": {
    "name": "ipython",
    "version": 3
   },
   "file_extension": ".py",
   "mimetype": "text/x-python",
   "name": "python",
   "nbconvert_exporter": "python",
   "pygments_lexer": "ipython3",
   "version": "3.11.8"
  }
 },
 "nbformat": 4,
 "nbformat_minor": 2
}
