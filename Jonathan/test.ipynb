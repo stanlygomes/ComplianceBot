{
 "cells": [
  {
   "cell_type": "code",
   "execution_count": 1,
   "metadata": {},
   "outputs": [],
   "source": [
    "import openai\n",
    "import textwrap\n",
    "from dotenv import dotenv_values\n",
    "wrapper = textwrap.TextWrapper(width=80) "
   ]
  },
  {
   "cell_type": "code",
   "execution_count": 3,
   "metadata": {},
   "outputs": [],
   "source": [
    "config = dotenv_values(\"../../.env\")\n",
    "openai.api_key = config[\"OPENAI_API_KEY\"]"
   ]
  },
  {
   "cell_type": "code",
   "execution_count": 4,
   "metadata": {},
   "outputs": [],
   "source": [
    "msg = [{\n",
    "        \"role\": \"system\", \"content\": \"You are an assistant who is knowledgeable about Vanguard's compliance policies.\",\n",
    "        \"role\": \"user\", \"content\": \"I am a Vanguard employee. Is my spouse allowed to own a non-Vanguard non-managed brokerage account?\"\n",
    "    }]"
   ]
  },
  {
   "cell_type": "code",
   "execution_count": 5,
   "metadata": {},
   "outputs": [],
   "source": [
    "response = openai.chat.completions.create(\n",
    "    model=\"gpt-3.5-turbo\",\n",
    "    messages=msg\n",
    ")"
   ]
  },
  {
   "cell_type": "code",
   "execution_count": 6,
   "metadata": {},
   "outputs": [
    {
     "name": "stdout",
     "output_type": "stream",
     "text": [
      "Yes, there is generally no restriction on a Vanguard employee's spouse owning a\n",
      "non-Vanguard non-managed brokerage account. However, it is important to note\n",
      "that Vanguard's Code of Ethics and Conduct outlines guidelines for personal\n",
      "investments and the handling of conflict of interest situations, so it is\n",
      "recommended for the employee and their spouse to review and adhere to these\n",
      "guidelines to ensure compliance with company policies.\n"
     ]
    }
   ],
   "source": [
    "resp_text = response.choices[0].message.content\n",
    "word_list = wrapper.wrap(text=resp_text) \n",
    "  \n",
    "# Print each line. \n",
    "for element in word_list: \n",
    "    print(element) "
   ]
  }
 ],
 "metadata": {
  "kernelspec": {
   "display_name": "Python 3 (ipykernel)",
   "language": "python",
   "name": "python3"
  },
  "language_info": {
   "codemirror_mode": {
    "name": "ipython",
    "version": 3
   },
   "file_extension": ".py",
   "mimetype": "text/x-python",
   "name": "python",
   "nbconvert_exporter": "python",
   "pygments_lexer": "ipython3",
   "version": "3.11.8"
  }
 },
 "nbformat": 4,
 "nbformat_minor": 2
}
