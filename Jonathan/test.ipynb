{
 "cells": [
  {
   "cell_type": "code",
   "execution_count": 7,
   "metadata": {},
   "outputs": [],
   "source": [
    "import openai\n",
    "import textwrap\n",
    "import json\n",
    "from tabulate import tabulate\n",
    "from dotenv import dotenv_values\n",
    "import os\n",
    "wrapper = textwrap.TextWrapper(width=80) "
   ]
  },
  {
   "cell_type": "code",
   "execution_count": 8,
   "metadata": {},
   "outputs": [
    {
     "ename": "KeyError",
     "evalue": "'OPENAI_API_KEY'",
     "output_type": "error",
     "traceback": [
      "\u001b[1;31m---------------------------------------------------------------------------\u001b[0m",
      "\u001b[1;31mKeyError\u001b[0m                                  Traceback (most recent call last)",
      "Cell \u001b[1;32mIn[8], line 2\u001b[0m\n\u001b[0;32m      1\u001b[0m config \u001b[38;5;241m=\u001b[39m dotenv_values(\u001b[38;5;124m\"\u001b[39m\u001b[38;5;124m../../.env\u001b[39m\u001b[38;5;124m\"\u001b[39m)\n\u001b[1;32m----> 2\u001b[0m openai\u001b[38;5;241m.\u001b[39mapi_key \u001b[38;5;241m=\u001b[39m \u001b[43mconfig\u001b[49m\u001b[43m[\u001b[49m\u001b[38;5;124;43m\"\u001b[39;49m\u001b[38;5;124;43mOPENAI_API_KEY\u001b[39;49m\u001b[38;5;124;43m\"\u001b[39;49m\u001b[43m]\u001b[49m\n\u001b[0;32m      3\u001b[0m os\u001b[38;5;241m.\u001b[39menviron[\u001b[38;5;124m\"\u001b[39m\u001b[38;5;124mOEPENAI_API_KEY\u001b[39m\u001b[38;5;124m\"\u001b[39m] \u001b[38;5;241m=\u001b[39m config[\u001b[38;5;124m\"\u001b[39m\u001b[38;5;124mopenai_api_key\u001b[39m\u001b[38;5;124m\"\u001b[39m]\n",
      "\u001b[1;31mKeyError\u001b[0m: 'OPENAI_API_KEY'"
     ]
    }
   ],
   "source": [
    "config = dotenv_values(\"../../.env\")\n",
    "openai.api_key = config[\"openai_api_key\"]\n",
    "os.environ[\"OEPENAI_API_KEY\"] = config[\"openai_api_key\"]"
   ]
  },
  {
   "cell_type": "code",
   "execution_count": null,
   "metadata": {},
   "outputs": [],
   "source": [
    "msg = [{\n",
    "        \"role\": \"system\", \"content\": \"You are an assistant who is knowledgeable about Vanguard's compliance policies.\",\n",
    "        \"role\": \"user\", \"content\": \"I am a Vanguard employee. Is my spouse allowed to own a non-Vanguard non-managed brokerage account?\"\n",
    "    }]"
   ]
  },
  {
   "cell_type": "code",
   "execution_count": null,
   "metadata": {},
   "outputs": [],
   "source": [
    "response = openai.chat.completions.create(\n",
    "    model=\"gpt-3.5-turbo\",\n",
    "    messages=msg\n",
    ")"
   ]
  },
  {
   "cell_type": "code",
   "execution_count": null,
   "metadata": {},
   "outputs": [],
   "source": [
    "resp_text = response.choices[0].message.content\n",
    "word_list = wrapper.wrap(text=resp_text) \n",
    "  \n",
    "# Print each line. \n",
    "for element in word_list: \n",
    "    print(element) "
   ]
  },
  {
   "cell_type": "code",
   "execution_count": 18,
   "metadata": {},
   "outputs": [],
   "source": [
    "num_docs = 10\n",
    "user_msg = f\"Generate {num_docs} unique compliance policy documents\" + \\\n",
    "            \"These documents can range anywhere from 5100 to 1000 words\" + \\\n",
    "            \"Format your response as a JSON Object\"\n",
    "msg = [{\n",
    "        \"role\": \"system\", \"content\": \"You are an assistant who is knowledgable about compliance policies in the finance industry.\",\n",
    "        \"role\": \"user\", \"content\": user_msg\n",
    "    }]"
   ]
  },
  {
   "cell_type": "code",
   "execution_count": 19,
   "metadata": {},
   "outputs": [],
   "source": [
    "response_comp = openai.chat.completions.create(\n",
    "    model=\"gpt-3.5-turbo\",\n",
    "    messages=msg,\n",
    "    response_format = { \"type\": \"json_object\" }\n",
    ")"
   ]
  },
  {
   "cell_type": "code",
   "execution_count": 20,
   "metadata": {},
   "outputs": [
    {
     "name": "stdout",
     "output_type": "stream",
     "text": [
      "<class 'str'>\n",
      "{'compliance_policy_1': \"Anti-Bribery and Corruption Policy - This policy outlines the company's commitment to conducting business in an ethical and lawful manner, prohibiting bribery and corruption in any form. It provides guidelines on how to detect and report any instances of bribery or corruption, as well as consequences for violating the policy.\", 'compliance_policy_2': 'Code of Conduct Policy - This policy sets guidelines for acceptable behavior within the company, including standards for professional conduct, conflicts of interest, confidentiality, and respect in the workplace.', 'compliance_policy_3': 'Data Privacy Policy - This policy outlines how the company collects, uses, and protects personal data in compliance with data protection laws. It also provides guidelines on data retention, sharing, and security measures to safeguard sensitive information.', 'compliance_policy_4': 'Anti-Money Laundering Policy - This policy sets procedures for preventing money laundering activities within the company, including customer due diligence, monitoring transactions, and reporting suspicious activities to regulatory authorities.', 'compliance_policy_5': 'Health and Safety Policy - This policy establishes guidelines for ensuring a safe and healthy work environment for employees, including procedures for reporting incidents, training on safety protocols, and compliance with occupational health and safety regulations.', 'compliance_policy_6': 'Whistleblower Policy - This policy encourages employees to report any unethical behavior, fraud, or misconduct within the company without fear of retaliation. It outlines procedures for confidential reporting, investigation, and protection for whistleblowers.', 'compliance_policy_7': 'Conflict of Interest Policy - This policy aims to prevent conflicts of interest that could influence decision-making within the company. It provides guidelines on disclosing potential conflicts, recusal procedures, and consequences for violating the policy.', 'compliance_policy_8': 'Equal Employment Opportunity Policy - This policy ensures that all employees are treated fairly and without discrimination based on race, gender, age, religion, or other protected characteristics. It outlines procedures for reporting and investigating claims of discrimination or harassment.', 'compliance_policy_9': \"IT Security Policy - This policy sets guidelines for protecting the company's information technology assets from security threats, including data breaches, malware, and unauthorized access. It outlines procedures for implementing security measures, access controls, and incident response.\", 'compliance_policy_10': \"Environmental Sustainability Policy - This policy outlines the company's commitment to reducing its environmental impact and promoting sustainability practices. It provides guidelines on waste management, energy efficiency, and compliance with environmental regulations.\"}\n"
     ]
    }
   ],
   "source": [
    "resp_text = response_comp.choices[0].message.content\n",
    "print(type(resp_text))\n",
    "#print(resp_text)\n",
    "resp_text_json = json.loads(resp_text)\n",
    "print(resp_text_json)"
   ]
  },
  {
   "cell_type": "code",
   "execution_count": 21,
   "metadata": {},
   "outputs": [],
   "source": [
    "for i_doc in range(num_docs):\n",
    "    json_file_name = f'compliance_docs_{i_doc + 1}.json'\n",
    "    md_file_name = f'md/compliance_docs_{i_doc + 1}.md'\n",
    "    \n",
    "    json_text_selected = {f\"compliance_policy_{i_doc+1}\": resp_text_json[f\"compliance_policy_{i_doc+1}\"]}\n",
    "    json_table = [list(item.values()) for item in [json_text_selected]]\n",
    "\n",
    "    markdown = tabulate(json_table, headers=\"keys\", tablefmt=\"pipe\")\n",
    "    md_file = open(md_file_name, 'w')\n",
    "    md_file.write(markdown)\n",
    "    md_file.close()\n",
    "\n",
    "        # json.dump(json_text_selected, f, ensure_ascii=False, indent=4)"
   ]
  }
 ],
 "metadata": {
  "kernelspec": {
   "display_name": "Python 3 (ipykernel)",
   "language": "python",
   "name": "python3"
  },
  "language_info": {
   "codemirror_mode": {
    "name": "ipython",
    "version": 3
   },
   "file_extension": ".py",
   "mimetype": "text/x-python",
   "name": "python",
   "nbconvert_exporter": "python",
   "pygments_lexer": "ipython3",
   "version": "3.11.8"
  }
 },
 "nbformat": 4,
 "nbformat_minor": 2
}
